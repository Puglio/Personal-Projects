{
 "cells": [
  {
   "cell_type": "markdown",
   "metadata": {},
   "source": [
    "# **Statistical Learning for Automation Systems**\n",
    "\n",
    "       \n",
    "## *Prof. Simone Formentin*\n",
    "\n",
    "___\n",
    "\n",
    "# K-Means Clustering with Python - Case Study\n",
    "\n",
    "K-Means Clustering is an unsupervised learning algorithm that tries to cluster data based on their similarity. Unsupervised learning means that there is no outcome to be predicted and the algorithm just tries to find patterns in the data. \n",
    "\n",
    "In K-Means clustering, it is necessary to specify the number of clusters we want the data to be grouped into. The algorithm randomly assigns each observation to a cluster and finds the centroid of each cluster. Then, the algorithm iterates through two steps:\n",
    "\n",
    "* Re-assign data points to the cluster whose centroid is the closest;\n",
    "* Calculate new centroid of each cluster.\n",
    "\n",
    "These two steps are repeated until the within cluster variation cannot be reduced further. The within cluster variation is calculated as the sum of the euclidean distance between the data points and their respective cluster centroids."
   ]
  },
  {
   "cell_type": "markdown",
   "metadata": {},
   "source": [
    "## Import Data Analysis and Visualization Libraries"
   ]
  },
  {
   "cell_type": "code",
   "execution_count": 1,
   "metadata": {},
   "outputs": [],
   "source": [
    "import numpy as np\n",
    "import pandas as pd\n",
    "import seaborn as sns\n",
    "import matplotlib.pyplot as plt\n",
    "\n",
    "%matplotlib inline"
   ]
  },
  {
   "cell_type": "markdown",
   "metadata": {},
   "source": [
    "## Dataset of Random Points"
   ]
  },
  {
   "cell_type": "markdown",
   "metadata": {},
   "source": [
    "### Dataset Creation"
   ]
  },
  {
   "cell_type": "code",
   "execution_count": 2,
   "metadata": {},
   "outputs": [],
   "source": [
    "data = np.random.rand(300,2)                    # Generate a dataset of 300 random points in a 2-dimensional space (uniformly picked in the interval [0,1])"
   ]
  },
  {
   "cell_type": "code",
   "execution_count": 3,
   "metadata": {
    "scrolled": true
   },
   "outputs": [
    {
     "data": {
      "text/plain": [
       "array([[0.84432724, 0.30767525],\n",
       "       [0.03603198, 0.10611846],\n",
       "       [0.70291562, 0.68334006],\n",
       "       [0.04796484, 0.57480926],\n",
       "       [0.41238923, 0.85316123],\n",
       "       [0.4427967 , 0.79547349],\n",
       "       [0.99434605, 0.79736056],\n",
       "       [0.67139931, 0.34780332],\n",
       "       [0.40686997, 0.6892896 ],\n",
       "       [0.42278403, 0.72441308],\n",
       "       [0.11445733, 0.7702171 ],\n",
       "       [0.93753152, 0.60102639],\n",
       "       [0.80541243, 0.65170555],\n",
       "       [0.63434939, 0.59488994],\n",
       "       [0.02815353, 0.70690908],\n",
       "       [0.90913733, 0.08884734],\n",
       "       [0.55124108, 0.40216588],\n",
       "       [0.86273102, 0.99090284],\n",
       "       [0.72950481, 0.52744651],\n",
       "       [0.23444258, 0.31561309],\n",
       "       [0.55696647, 0.47211392],\n",
       "       [0.6074925 , 0.88191015],\n",
       "       [0.06363728, 0.03240675],\n",
       "       [0.96311017, 0.1256601 ],\n",
       "       [0.4265029 , 0.7425275 ],\n",
       "       [0.49441808, 0.62636682],\n",
       "       [0.3303606 , 0.51384992],\n",
       "       [0.94505224, 0.59008234],\n",
       "       [0.59951019, 0.36130887],\n",
       "       [0.62619903, 0.5860064 ],\n",
       "       [0.15556509, 0.95596643],\n",
       "       [0.38086423, 0.85104774],\n",
       "       [0.20652595, 0.37433021],\n",
       "       [0.39004308, 0.0982659 ],\n",
       "       [0.071754  , 0.92051682],\n",
       "       [0.67657323, 0.32541491],\n",
       "       [0.43481496, 0.83572529],\n",
       "       [0.60665526, 0.49747117],\n",
       "       [0.90211591, 0.69018588],\n",
       "       [0.30149434, 0.39698051],\n",
       "       [0.94661342, 0.68607246],\n",
       "       [0.74896749, 0.03895544],\n",
       "       [0.62898571, 0.62144644],\n",
       "       [0.51224476, 0.58627235],\n",
       "       [0.34628039, 0.34884045],\n",
       "       [0.49536241, 0.8472617 ],\n",
       "       [0.3294398 , 0.2046867 ],\n",
       "       [0.13274112, 0.10156634],\n",
       "       [0.59639282, 0.54213585],\n",
       "       [0.82170038, 0.07000741],\n",
       "       [0.66572346, 0.83576649],\n",
       "       [0.70214818, 0.37815272],\n",
       "       [0.25613516, 0.82252067],\n",
       "       [0.55898718, 0.31327171],\n",
       "       [0.67044187, 0.51388531],\n",
       "       [0.09146435, 0.73847509],\n",
       "       [0.7590941 , 0.3464327 ],\n",
       "       [0.73721168, 0.60693877],\n",
       "       [0.46416116, 0.24777523],\n",
       "       [0.81787198, 0.80211504],\n",
       "       [0.7240062 , 0.46088435],\n",
       "       [0.08640229, 0.84559531],\n",
       "       [0.57750012, 0.56006031],\n",
       "       [0.52722652, 0.42059223],\n",
       "       [0.11023475, 0.13543507],\n",
       "       [0.92652051, 0.49000983],\n",
       "       [0.81238173, 0.35621666],\n",
       "       [0.65611139, 0.52385248],\n",
       "       [0.55548982, 0.39430301],\n",
       "       [0.43931023, 0.51734112],\n",
       "       [0.46573016, 0.46704072],\n",
       "       [0.71028219, 0.24232425],\n",
       "       [0.44132334, 0.26894975],\n",
       "       [0.52012849, 0.33171746],\n",
       "       [0.811195  , 0.13495188],\n",
       "       [0.75214392, 0.34655469],\n",
       "       [0.26681908, 0.10223102],\n",
       "       [0.52380032, 0.32342187],\n",
       "       [0.01073827, 0.59234064],\n",
       "       [0.72473433, 0.00983345],\n",
       "       [0.48516284, 0.22888512],\n",
       "       [0.67295567, 0.04326024],\n",
       "       [0.08234893, 0.42214572],\n",
       "       [0.32863307, 0.20389952],\n",
       "       [0.35417948, 0.37204269],\n",
       "       [0.58208422, 0.46113747],\n",
       "       [0.95730654, 0.29473821],\n",
       "       [0.77932213, 0.95310736],\n",
       "       [0.56875289, 0.00537813],\n",
       "       [0.24198713, 0.57452   ],\n",
       "       [0.58151427, 0.08181688],\n",
       "       [0.70371957, 0.76023992],\n",
       "       [0.39987115, 0.63741233],\n",
       "       [0.88344639, 0.83859916],\n",
       "       [0.15500912, 0.21590688],\n",
       "       [0.00721742, 0.45502151],\n",
       "       [0.09364405, 0.45260575],\n",
       "       [0.96410383, 0.27392082],\n",
       "       [0.90877462, 0.19966302],\n",
       "       [0.48291129, 0.78169074],\n",
       "       [0.30808191, 0.77095247],\n",
       "       [0.73973309, 0.65054843],\n",
       "       [0.33449737, 0.8397194 ],\n",
       "       [0.89881071, 0.48145996],\n",
       "       [0.92070235, 0.96972509],\n",
       "       [0.61604944, 0.35796138],\n",
       "       [0.45248634, 0.69952117],\n",
       "       [0.73210425, 0.87653433],\n",
       "       [0.11302616, 0.65061452],\n",
       "       [0.95776252, 0.67580633],\n",
       "       [0.95391516, 0.86812599],\n",
       "       [0.24125455, 0.08158456],\n",
       "       [0.49182766, 0.63033294],\n",
       "       [0.1922011 , 0.33783699],\n",
       "       [0.36116178, 0.16460628],\n",
       "       [0.18262264, 0.10818931],\n",
       "       [0.03404254, 0.16985324],\n",
       "       [0.80010106, 0.67760746],\n",
       "       [0.72340487, 0.06116118],\n",
       "       [0.30678888, 0.494587  ],\n",
       "       [0.41591383, 0.04395079],\n",
       "       [0.36246648, 0.95074195],\n",
       "       [0.63424335, 0.53324423],\n",
       "       [0.06327483, 0.45497989],\n",
       "       [0.39413679, 0.7720571 ],\n",
       "       [0.27798893, 0.52342259],\n",
       "       [0.70265155, 0.40117163],\n",
       "       [0.23758776, 0.02301424],\n",
       "       [0.88189141, 0.34829718],\n",
       "       [0.49686769, 0.3619216 ],\n",
       "       [0.65399351, 0.76567778],\n",
       "       [0.44171161, 0.52887933],\n",
       "       [0.3893357 , 0.99282728],\n",
       "       [0.74709547, 0.17744944],\n",
       "       [0.58844496, 0.04100498],\n",
       "       [0.51551654, 0.58179739],\n",
       "       [0.74160638, 0.94201464],\n",
       "       [0.86286245, 0.97944307],\n",
       "       [0.93364307, 0.24698557],\n",
       "       [0.48516343, 0.37718118],\n",
       "       [0.89202643, 0.68539649],\n",
       "       [0.06139862, 0.77138099],\n",
       "       [0.43519621, 0.5626646 ],\n",
       "       [0.46103973, 0.23610473],\n",
       "       [0.1168303 , 0.00880129],\n",
       "       [0.93551551, 0.178894  ],\n",
       "       [0.15959614, 0.28349357],\n",
       "       [0.64454714, 0.29624113],\n",
       "       [0.23033386, 0.89858165],\n",
       "       [0.6025275 , 0.57698495],\n",
       "       [0.67306999, 0.00923468],\n",
       "       [0.87294514, 0.91020508],\n",
       "       [0.27402089, 0.49693975],\n",
       "       [0.21130406, 0.2539548 ],\n",
       "       [0.26546745, 0.75503635],\n",
       "       [0.49784754, 0.3896085 ],\n",
       "       [0.03291937, 0.44065025],\n",
       "       [0.78038065, 0.07386572],\n",
       "       [0.0815502 , 0.26447081],\n",
       "       [0.24308639, 0.09692244],\n",
       "       [0.58609441, 0.21269984],\n",
       "       [0.62585525, 0.16660257],\n",
       "       [0.22754809, 0.74471513],\n",
       "       [0.97579598, 0.75452329],\n",
       "       [0.53627029, 0.11661627],\n",
       "       [0.68224102, 0.43533608],\n",
       "       [0.59701641, 0.71390232],\n",
       "       [0.82865986, 0.21888745],\n",
       "       [0.58655197, 0.09496289],\n",
       "       [0.37418658, 0.03496172],\n",
       "       [0.65321709, 0.98320306],\n",
       "       [0.87338117, 0.80017312],\n",
       "       [0.74628692, 0.7281895 ],\n",
       "       [0.64230111, 0.99185047],\n",
       "       [0.9775368 , 0.08726573],\n",
       "       [0.44715923, 0.60248805],\n",
       "       [0.97138077, 0.89814686],\n",
       "       [0.40063779, 0.85434231],\n",
       "       [0.96006174, 0.40462786],\n",
       "       [0.6025007 , 0.95315859],\n",
       "       [0.38717015, 0.1121813 ],\n",
       "       [0.96333494, 0.57323372],\n",
       "       [0.34991622, 0.12313297],\n",
       "       [0.76712013, 0.76752823],\n",
       "       [0.14416248, 0.27539501],\n",
       "       [0.5798906 , 0.32275551],\n",
       "       [0.16677837, 0.37057539],\n",
       "       [0.11582332, 0.0477445 ],\n",
       "       [0.58537485, 0.0893894 ],\n",
       "       [0.67532543, 0.96373997],\n",
       "       [0.37898   , 0.26767753],\n",
       "       [0.39393078, 0.61780798],\n",
       "       [0.98793635, 0.63372267],\n",
       "       [0.66297091, 0.17485331],\n",
       "       [0.74022377, 0.56347023],\n",
       "       [0.38304331, 0.13039289],\n",
       "       [0.08683283, 0.48235843],\n",
       "       [0.43400893, 0.04500422],\n",
       "       [0.70815538, 0.19031898],\n",
       "       [0.60850649, 0.91450464],\n",
       "       [0.6874924 , 0.01266332],\n",
       "       [0.65566466, 0.87080226],\n",
       "       [0.79877604, 0.25538159],\n",
       "       [0.97031828, 0.93381025],\n",
       "       [0.742207  , 0.90074444],\n",
       "       [0.32265787, 0.6389187 ],\n",
       "       [0.59319918, 0.64189494],\n",
       "       [0.94551466, 0.59185832],\n",
       "       [0.18989323, 0.58559956],\n",
       "       [0.66443224, 0.78271462],\n",
       "       [0.95512147, 0.89987018],\n",
       "       [0.8365943 , 0.70494065],\n",
       "       [0.28842129, 0.56793616],\n",
       "       [0.43733655, 0.27662798],\n",
       "       [0.25776645, 0.95264854],\n",
       "       [0.29882615, 0.35983641],\n",
       "       [0.08185275, 0.61184019],\n",
       "       [0.0341219 , 0.64554187],\n",
       "       [0.0455179 , 0.85223132],\n",
       "       [0.91831604, 0.24595439],\n",
       "       [0.22424964, 0.24496875],\n",
       "       [0.18660275, 0.0356591 ],\n",
       "       [0.28353472, 0.09872205],\n",
       "       [0.33703104, 0.22716355],\n",
       "       [0.87420919, 0.70026799],\n",
       "       [0.28347678, 0.85563202],\n",
       "       [0.9930664 , 0.65810822],\n",
       "       [0.3572209 , 0.64329767],\n",
       "       [0.3212724 , 0.08563131],\n",
       "       [0.90386486, 0.30078979],\n",
       "       [0.73636226, 0.26682981],\n",
       "       [0.59137922, 0.73648572],\n",
       "       [0.1445985 , 0.25796438],\n",
       "       [0.3379339 , 0.63019602],\n",
       "       [0.56388025, 0.50311854],\n",
       "       [0.97447064, 0.47009626],\n",
       "       [0.48246023, 0.27073739],\n",
       "       [0.87183295, 0.72167642],\n",
       "       [0.5201789 , 0.33720032],\n",
       "       [0.5783861 , 0.54361522],\n",
       "       [0.27759414, 0.50220075],\n",
       "       [0.07123161, 0.50413277],\n",
       "       [0.07916981, 0.81772862],\n",
       "       [0.23387218, 0.51812192],\n",
       "       [0.66621372, 0.55989334],\n",
       "       [0.02630285, 0.36459298],\n",
       "       [0.12732119, 0.86169597],\n",
       "       [0.62632416, 0.0563456 ],\n",
       "       [0.08819602, 0.57968391],\n",
       "       [0.96087444, 0.45500465],\n",
       "       [0.01862408, 0.73649205],\n",
       "       [0.85085093, 0.63319963],\n",
       "       [0.97550058, 0.99306456],\n",
       "       [0.69051492, 0.42227141],\n",
       "       [0.74969672, 0.93787675],\n",
       "       [0.39475202, 0.17710557],\n",
       "       [0.345239  , 0.08863612],\n",
       "       [0.84036555, 0.69660128],\n",
       "       [0.13896123, 0.50098837],\n",
       "       [0.14028785, 0.61102114],\n",
       "       [0.58654454, 0.07073124],\n",
       "       [0.2320684 , 0.97625143],\n",
       "       [0.71824367, 0.38452296],\n",
       "       [0.43084457, 0.07772758],\n",
       "       [0.11962021, 0.02607042],\n",
       "       [0.46748678, 0.61451768],\n",
       "       [0.76584   , 0.2815227 ],\n",
       "       [0.25508697, 0.09135383],\n",
       "       [0.26497514, 0.28795267],\n",
       "       [0.58510382, 0.78077499],\n",
       "       [0.69415585, 0.13597374],\n",
       "       [0.7061018 , 0.313646  ],\n",
       "       [0.36579014, 0.3046601 ],\n",
       "       [0.18835744, 0.36976063],\n",
       "       [0.83471397, 0.16659038],\n",
       "       [0.75341217, 0.77847307],\n",
       "       [0.30749191, 0.25391256],\n",
       "       [0.40624797, 0.73508881],\n",
       "       [0.32033657, 0.89112725],\n",
       "       [0.4327247 , 0.7790414 ],\n",
       "       [0.7134635 , 0.23350021],\n",
       "       [0.75766675, 0.10846817],\n",
       "       [0.44713613, 0.41550426],\n",
       "       [0.4825417 , 0.78031781],\n",
       "       [0.73857203, 0.53582095],\n",
       "       [0.00990093, 0.12711412],\n",
       "       [0.89473903, 0.70630719],\n",
       "       [0.11285161, 0.07789933],\n",
       "       [0.07448726, 0.12971286],\n",
       "       [0.29326731, 0.86973842],\n",
       "       [0.97652993, 0.34128728],\n",
       "       [0.48883686, 0.1601427 ],\n",
       "       [0.5131059 , 0.10238398],\n",
       "       [0.7297273 , 0.94103283],\n",
       "       [0.7245818 , 0.71778597],\n",
       "       [0.59970106, 0.36282367],\n",
       "       [0.45069061, 0.41125622],\n",
       "       [0.11677463, 0.67997818],\n",
       "       [0.00286911, 0.9893307 ],\n",
       "       [0.60361603, 0.03414366]])"
      ]
     },
     "execution_count": 3,
     "metadata": {},
     "output_type": "execute_result"
    }
   ],
   "source": [
    "data                                            # Show generated dataset"
   ]
  },
  {
   "cell_type": "code",
   "execution_count": 4,
   "metadata": {
    "scrolled": true
   },
   "outputs": [
    {
     "data": {
      "text/plain": [
       "array([0.84432724, 0.03603198, 0.70291562, 0.04796484, 0.41238923,\n",
       "       0.4427967 , 0.99434605, 0.67139931, 0.40686997, 0.42278403,\n",
       "       0.11445733, 0.93753152, 0.80541243, 0.63434939, 0.02815353,\n",
       "       0.90913733, 0.55124108, 0.86273102, 0.72950481, 0.23444258,\n",
       "       0.55696647, 0.6074925 , 0.06363728, 0.96311017, 0.4265029 ,\n",
       "       0.49441808, 0.3303606 , 0.94505224, 0.59951019, 0.62619903,\n",
       "       0.15556509, 0.38086423, 0.20652595, 0.39004308, 0.071754  ,\n",
       "       0.67657323, 0.43481496, 0.60665526, 0.90211591, 0.30149434,\n",
       "       0.94661342, 0.74896749, 0.62898571, 0.51224476, 0.34628039,\n",
       "       0.49536241, 0.3294398 , 0.13274112, 0.59639282, 0.82170038,\n",
       "       0.66572346, 0.70214818, 0.25613516, 0.55898718, 0.67044187,\n",
       "       0.09146435, 0.7590941 , 0.73721168, 0.46416116, 0.81787198,\n",
       "       0.7240062 , 0.08640229, 0.57750012, 0.52722652, 0.11023475,\n",
       "       0.92652051, 0.81238173, 0.65611139, 0.55548982, 0.43931023,\n",
       "       0.46573016, 0.71028219, 0.44132334, 0.52012849, 0.811195  ,\n",
       "       0.75214392, 0.26681908, 0.52380032, 0.01073827, 0.72473433,\n",
       "       0.48516284, 0.67295567, 0.08234893, 0.32863307, 0.35417948,\n",
       "       0.58208422, 0.95730654, 0.77932213, 0.56875289, 0.24198713,\n",
       "       0.58151427, 0.70371957, 0.39987115, 0.88344639, 0.15500912,\n",
       "       0.00721742, 0.09364405, 0.96410383, 0.90877462, 0.48291129,\n",
       "       0.30808191, 0.73973309, 0.33449737, 0.89881071, 0.92070235,\n",
       "       0.61604944, 0.45248634, 0.73210425, 0.11302616, 0.95776252,\n",
       "       0.95391516, 0.24125455, 0.49182766, 0.1922011 , 0.36116178,\n",
       "       0.18262264, 0.03404254, 0.80010106, 0.72340487, 0.30678888,\n",
       "       0.41591383, 0.36246648, 0.63424335, 0.06327483, 0.39413679,\n",
       "       0.27798893, 0.70265155, 0.23758776, 0.88189141, 0.49686769,\n",
       "       0.65399351, 0.44171161, 0.3893357 , 0.74709547, 0.58844496,\n",
       "       0.51551654, 0.74160638, 0.86286245, 0.93364307, 0.48516343,\n",
       "       0.89202643, 0.06139862, 0.43519621, 0.46103973, 0.1168303 ,\n",
       "       0.93551551, 0.15959614, 0.64454714, 0.23033386, 0.6025275 ,\n",
       "       0.67306999, 0.87294514, 0.27402089, 0.21130406, 0.26546745,\n",
       "       0.49784754, 0.03291937, 0.78038065, 0.0815502 , 0.24308639,\n",
       "       0.58609441, 0.62585525, 0.22754809, 0.97579598, 0.53627029,\n",
       "       0.68224102, 0.59701641, 0.82865986, 0.58655197, 0.37418658,\n",
       "       0.65321709, 0.87338117, 0.74628692, 0.64230111, 0.9775368 ,\n",
       "       0.44715923, 0.97138077, 0.40063779, 0.96006174, 0.6025007 ,\n",
       "       0.38717015, 0.96333494, 0.34991622, 0.76712013, 0.14416248,\n",
       "       0.5798906 , 0.16677837, 0.11582332, 0.58537485, 0.67532543,\n",
       "       0.37898   , 0.39393078, 0.98793635, 0.66297091, 0.74022377,\n",
       "       0.38304331, 0.08683283, 0.43400893, 0.70815538, 0.60850649,\n",
       "       0.6874924 , 0.65566466, 0.79877604, 0.97031828, 0.742207  ,\n",
       "       0.32265787, 0.59319918, 0.94551466, 0.18989323, 0.66443224,\n",
       "       0.95512147, 0.8365943 , 0.28842129, 0.43733655, 0.25776645,\n",
       "       0.29882615, 0.08185275, 0.0341219 , 0.0455179 , 0.91831604,\n",
       "       0.22424964, 0.18660275, 0.28353472, 0.33703104, 0.87420919,\n",
       "       0.28347678, 0.9930664 , 0.3572209 , 0.3212724 , 0.90386486,\n",
       "       0.73636226, 0.59137922, 0.1445985 , 0.3379339 , 0.56388025,\n",
       "       0.97447064, 0.48246023, 0.87183295, 0.5201789 , 0.5783861 ,\n",
       "       0.27759414, 0.07123161, 0.07916981, 0.23387218, 0.66621372,\n",
       "       0.02630285, 0.12732119, 0.62632416, 0.08819602, 0.96087444,\n",
       "       0.01862408, 0.85085093, 0.97550058, 0.69051492, 0.74969672,\n",
       "       0.39475202, 0.345239  , 0.84036555, 0.13896123, 0.14028785,\n",
       "       0.58654454, 0.2320684 , 0.71824367, 0.43084457, 0.11962021,\n",
       "       0.46748678, 0.76584   , 0.25508697, 0.26497514, 0.58510382,\n",
       "       0.69415585, 0.7061018 , 0.36579014, 0.18835744, 0.83471397,\n",
       "       0.75341217, 0.30749191, 0.40624797, 0.32033657, 0.4327247 ,\n",
       "       0.7134635 , 0.75766675, 0.44713613, 0.4825417 , 0.73857203,\n",
       "       0.00990093, 0.89473903, 0.11285161, 0.07448726, 0.29326731,\n",
       "       0.97652993, 0.48883686, 0.5131059 , 0.7297273 , 0.7245818 ,\n",
       "       0.59970106, 0.45069061, 0.11677463, 0.00286911, 0.60361603])"
      ]
     },
     "execution_count": 4,
     "metadata": {},
     "output_type": "execute_result"
    }
   ],
   "source": [
    "data[:,0]                                  # Vector containing the first coordinate for each point in the dataset"
   ]
  },
  {
   "cell_type": "code",
   "execution_count": 5,
   "metadata": {
    "scrolled": true
   },
   "outputs": [
    {
     "data": {
      "text/plain": [
       "array([0.30767525, 0.10611846, 0.68334006, 0.57480926, 0.85316123,\n",
       "       0.79547349, 0.79736056, 0.34780332, 0.6892896 , 0.72441308,\n",
       "       0.7702171 , 0.60102639, 0.65170555, 0.59488994, 0.70690908,\n",
       "       0.08884734, 0.40216588, 0.99090284, 0.52744651, 0.31561309,\n",
       "       0.47211392, 0.88191015, 0.03240675, 0.1256601 , 0.7425275 ,\n",
       "       0.62636682, 0.51384992, 0.59008234, 0.36130887, 0.5860064 ,\n",
       "       0.95596643, 0.85104774, 0.37433021, 0.0982659 , 0.92051682,\n",
       "       0.32541491, 0.83572529, 0.49747117, 0.69018588, 0.39698051,\n",
       "       0.68607246, 0.03895544, 0.62144644, 0.58627235, 0.34884045,\n",
       "       0.8472617 , 0.2046867 , 0.10156634, 0.54213585, 0.07000741,\n",
       "       0.83576649, 0.37815272, 0.82252067, 0.31327171, 0.51388531,\n",
       "       0.73847509, 0.3464327 , 0.60693877, 0.24777523, 0.80211504,\n",
       "       0.46088435, 0.84559531, 0.56006031, 0.42059223, 0.13543507,\n",
       "       0.49000983, 0.35621666, 0.52385248, 0.39430301, 0.51734112,\n",
       "       0.46704072, 0.24232425, 0.26894975, 0.33171746, 0.13495188,\n",
       "       0.34655469, 0.10223102, 0.32342187, 0.59234064, 0.00983345,\n",
       "       0.22888512, 0.04326024, 0.42214572, 0.20389952, 0.37204269,\n",
       "       0.46113747, 0.29473821, 0.95310736, 0.00537813, 0.57452   ,\n",
       "       0.08181688, 0.76023992, 0.63741233, 0.83859916, 0.21590688,\n",
       "       0.45502151, 0.45260575, 0.27392082, 0.19966302, 0.78169074,\n",
       "       0.77095247, 0.65054843, 0.8397194 , 0.48145996, 0.96972509,\n",
       "       0.35796138, 0.69952117, 0.87653433, 0.65061452, 0.67580633,\n",
       "       0.86812599, 0.08158456, 0.63033294, 0.33783699, 0.16460628,\n",
       "       0.10818931, 0.16985324, 0.67760746, 0.06116118, 0.494587  ,\n",
       "       0.04395079, 0.95074195, 0.53324423, 0.45497989, 0.7720571 ,\n",
       "       0.52342259, 0.40117163, 0.02301424, 0.34829718, 0.3619216 ,\n",
       "       0.76567778, 0.52887933, 0.99282728, 0.17744944, 0.04100498,\n",
       "       0.58179739, 0.94201464, 0.97944307, 0.24698557, 0.37718118,\n",
       "       0.68539649, 0.77138099, 0.5626646 , 0.23610473, 0.00880129,\n",
       "       0.178894  , 0.28349357, 0.29624113, 0.89858165, 0.57698495,\n",
       "       0.00923468, 0.91020508, 0.49693975, 0.2539548 , 0.75503635,\n",
       "       0.3896085 , 0.44065025, 0.07386572, 0.26447081, 0.09692244,\n",
       "       0.21269984, 0.16660257, 0.74471513, 0.75452329, 0.11661627,\n",
       "       0.43533608, 0.71390232, 0.21888745, 0.09496289, 0.03496172,\n",
       "       0.98320306, 0.80017312, 0.7281895 , 0.99185047, 0.08726573,\n",
       "       0.60248805, 0.89814686, 0.85434231, 0.40462786, 0.95315859,\n",
       "       0.1121813 , 0.57323372, 0.12313297, 0.76752823, 0.27539501,\n",
       "       0.32275551, 0.37057539, 0.0477445 , 0.0893894 , 0.96373997,\n",
       "       0.26767753, 0.61780798, 0.63372267, 0.17485331, 0.56347023,\n",
       "       0.13039289, 0.48235843, 0.04500422, 0.19031898, 0.91450464,\n",
       "       0.01266332, 0.87080226, 0.25538159, 0.93381025, 0.90074444,\n",
       "       0.6389187 , 0.64189494, 0.59185832, 0.58559956, 0.78271462,\n",
       "       0.89987018, 0.70494065, 0.56793616, 0.27662798, 0.95264854,\n",
       "       0.35983641, 0.61184019, 0.64554187, 0.85223132, 0.24595439,\n",
       "       0.24496875, 0.0356591 , 0.09872205, 0.22716355, 0.70026799,\n",
       "       0.85563202, 0.65810822, 0.64329767, 0.08563131, 0.30078979,\n",
       "       0.26682981, 0.73648572, 0.25796438, 0.63019602, 0.50311854,\n",
       "       0.47009626, 0.27073739, 0.72167642, 0.33720032, 0.54361522,\n",
       "       0.50220075, 0.50413277, 0.81772862, 0.51812192, 0.55989334,\n",
       "       0.36459298, 0.86169597, 0.0563456 , 0.57968391, 0.45500465,\n",
       "       0.73649205, 0.63319963, 0.99306456, 0.42227141, 0.93787675,\n",
       "       0.17710557, 0.08863612, 0.69660128, 0.50098837, 0.61102114,\n",
       "       0.07073124, 0.97625143, 0.38452296, 0.07772758, 0.02607042,\n",
       "       0.61451768, 0.2815227 , 0.09135383, 0.28795267, 0.78077499,\n",
       "       0.13597374, 0.313646  , 0.3046601 , 0.36976063, 0.16659038,\n",
       "       0.77847307, 0.25391256, 0.73508881, 0.89112725, 0.7790414 ,\n",
       "       0.23350021, 0.10846817, 0.41550426, 0.78031781, 0.53582095,\n",
       "       0.12711412, 0.70630719, 0.07789933, 0.12971286, 0.86973842,\n",
       "       0.34128728, 0.1601427 , 0.10238398, 0.94103283, 0.71778597,\n",
       "       0.36282367, 0.41125622, 0.67997818, 0.9893307 , 0.03414366])"
      ]
     },
     "execution_count": 5,
     "metadata": {},
     "output_type": "execute_result"
    }
   ],
   "source": [
    "data[:,1]                               # Vector containing the second coordinate for each point in the dataset"
   ]
  },
  {
   "cell_type": "markdown",
   "metadata": {},
   "source": [
    "### Data Visualization"
   ]
  },
  {
   "cell_type": "markdown",
   "metadata": {},
   "source": [
    "Plot the dataset points in the two-dimensional feature space."
   ]
  },
  {
   "cell_type": "code",
   "execution_count": 6,
   "metadata": {},
   "outputs": [
    {
     "data": {
      "text/plain": [
       "Text(0.5, 1.0, 'Data Scatterplot')"
      ]
     },
     "execution_count": 6,
     "metadata": {},
     "output_type": "execute_result"
    },
    {
     "data": {
      "image/png": "[encoded data removed]",
      "text/plain": [
       "<Figure size 432x288 with 1 Axes>"
      ]
     },
     "metadata": {
      "needs_background": "light"
     },
     "output_type": "display_data"
    }
   ],
   "source": [
    "plt.scatter(data[:,0], data[:,1])\n",
    "\n",
    "plt.xlabel('Feature 1')\n",
    "plt.ylabel('Feature 2')\n",
    "plt.title('Data Scatterplot')"
   ]
  },
  {
   "cell_type": "markdown",
   "metadata": {},
   "source": [
    "### K-Means Clustering"
   ]
  },
  {
   "cell_type": "code",
   "execution_count": 7,
   "metadata": {},
   "outputs": [],
   "source": [
    "from sklearn.cluster import KMeans                         # Import KMeans() method from Scikit Learn"
   ]
  },
  {
   "cell_type": "code",
   "execution_count": 8,
   "metadata": {},
   "outputs": [],
   "source": [
    "kmeans = KMeans(n_clusters = 3)                            # Assign an instantiation of KMeans() to variable 'kmeans', specifying the number of clusters"
   ]
  },
  {
   "cell_type": "code",
   "execution_count": 9,
   "metadata": {},
   "outputs": [
    {
     "data": {
      "text/plain": [
       "KMeans(n_clusters=3)"
      ]
     },
     "execution_count": 9,
     "metadata": {},
     "output_type": "execute_result"
    }
   ],
   "source": [
    "kmeans.fit(data)                                           # Computation of K-Means Clustering applied to the dataset points"
   ]
  },
  {
   "cell_type": "code",
   "execution_count": 10,
   "metadata": {},
   "outputs": [
    {
     "data": {
      "text/plain": [
       "array([[0.78049287, 0.65213253],\n",
       "       [0.25459517, 0.68023946],\n",
       "       [0.46845924, 0.19179533]])"
      ]
     },
     "execution_count": 10,
     "metadata": {},
     "output_type": "execute_result"
    }
   ],
   "source": [
    "kmeans.cluster_centers_                                    # Plot the coordinates of the cluster centers in the two-dimensional feature space"
   ]
  },
  {
   "cell_type": "code",
   "execution_count": 11,
   "metadata": {},
   "outputs": [
    {
     "data": {
      "text/plain": [
       "array([0, 2, 0, 1, 1, 1, 0, 2, 1, 1, 1, 0, 0, 0, 1, 2, 2, 0, 0, 2, 0, 0,\n",
       "       2, 2, 1, 1, 1, 0, 2, 0, 1, 1, 1, 2, 1, 2, 1, 0, 0, 2, 0, 2, 0, 1,\n",
       "       2, 1, 2, 2, 0, 2, 0, 0, 1, 2, 0, 1, 0, 0, 2, 0, 0, 1, 0, 2, 2, 0,\n",
       "       0, 0, 2, 1, 2, 2, 2, 2, 2, 0, 2, 2, 1, 2, 2, 2, 1, 2, 2, 0, 0, 0,\n",
       "       2, 1, 2, 0, 1, 0, 2, 1, 1, 0, 2, 1, 1, 0, 1, 0, 0, 2, 1, 0, 1, 0,\n",
       "       0, 2, 1, 2, 2, 2, 2, 0, 2, 1, 2, 1, 0, 1, 1, 1, 0, 2, 0, 2, 0, 1,\n",
       "       1, 2, 2, 0, 0, 0, 0, 2, 0, 1, 1, 2, 2, 2, 2, 2, 1, 0, 2, 0, 1, 2,\n",
       "       1, 2, 1, 2, 2, 2, 2, 2, 1, 0, 2, 0, 0, 2, 2, 2, 0, 0, 0, 0, 2, 1,\n",
       "       0, 1, 0, 0, 2, 0, 2, 0, 2, 2, 1, 2, 2, 0, 2, 1, 0, 2, 0, 2, 1, 2,\n",
       "       2, 0, 2, 0, 2, 0, 0, 1, 0, 0, 1, 0, 0, 0, 1, 2, 1, 2, 1, 1, 1, 0,\n",
       "       2, 2, 2, 2, 0, 1, 0, 1, 2, 0, 2, 0, 2, 1, 0, 0, 2, 0, 2, 0, 1, 1,\n",
       "       1, 1, 0, 1, 1, 2, 1, 0, 1, 0, 0, 0, 0, 2, 2, 0, 1, 1, 2, 1, 0, 2,\n",
       "       2, 1, 2, 2, 2, 0, 2, 2, 2, 1, 2, 0, 2, 1, 1, 1, 2, 2, 2, 1, 0, 2,\n",
       "       0, 2, 2, 1, 0, 2, 2, 0, 0, 2, 2, 1, 1, 2])"
      ]
     },
     "execution_count": 11,
     "metadata": {},
     "output_type": "execute_result"
    }
   ],
   "source": [
    "kmeans.labels_                                             # Plot the label of the cluster each point is associated to after K-Means Clustering application"
   ]
  },
  {
   "cell_type": "markdown",
   "metadata": {},
   "source": [
    "### Plot Original Dataset vs K-Means Clustering Results"
   ]
  },
  {
   "cell_type": "code",
   "execution_count": 12,
   "metadata": {},
   "outputs": [
    {
     "data": {
      "text/plain": [
       "Text(0, 0.5, 'Feature 2')"
      ]
     },
     "execution_count": 12,
     "metadata": {},
     "output_type": "execute_result"
    },
    {
     "data": {
      "image/png": "[encoded data removed]",
      "text/plain": [
       "<Figure size 720x432 with 2 Axes>"
      ]
     },
     "metadata": {
      "needs_background": "light"
     },
     "output_type": "display_data"
    }
   ],
   "source": [
    "f, (ax1, ax2) = plt.subplots(1, 2, figsize=(10,6))\n",
    "\n",
    "ax1.scatter(data[:,0], data[:,1])\n",
    "ax1.set_title(\"Original\")\n",
    "ax1.set_xlabel('Feature 1')\n",
    "ax1.set_ylabel('Feature 2')\n",
    "\n",
    "ax2.scatter(data[:,0], data[:,1], c = kmeans.labels_, cmap = 'rainbow')\n",
    "ax2.set_title('K Means')\n",
    "ax2.set_xlabel('Feature 1')\n",
    "ax2.set_ylabel('Feature 2')"
   ]
  },
  {
   "cell_type": "markdown",
   "metadata": {},
   "source": [
    "## Create Dataset using make_blobs() function"
   ]
  },
  {
   "cell_type": "markdown",
   "metadata": {},
   "source": [
    "### Dataset Creation"
   ]
  },
  {
   "cell_type": "code",
   "execution_count": 13,
   "metadata": {},
   "outputs": [],
   "source": [
    "from sklearn.datasets import make_blobs                              # Import make_blobs() function from sklearn\n",
    "\n",
    "# Create Data\n",
    "data_mb = make_blobs(n_samples=200, n_features=2, centers=4, cluster_std=1.8, random_state=101)"
   ]
  },
  {
   "cell_type": "code",
   "execution_count": 14,
   "metadata": {},
   "outputs": [
    {
     "data": {
      "text/plain": [
       "(array([[-6.42884095e+00,  1.01411174e+01],\n",
       "        [ 5.86867888e+00,  5.20110356e+00],\n",
       "        [-3.76109375e-01,  3.26427943e+00],\n",
       "        [ 2.16679181e+00,  9.56300522e+00],\n",
       "        [ 5.09508570e+00,  7.20752718e+00],\n",
       "        [-1.08788882e+01, -6.11318040e+00],\n",
       "        [ 2.03405554e+00,  9.76664755e+00],\n",
       "        [-1.71798771e+00,  1.41401140e+00],\n",
       "        [ 1.16911341e+00,  8.24556988e+00],\n",
       "        [-1.35185444e+00,  3.13245345e+00],\n",
       "        [-6.18548214e+00,  9.67406555e+00],\n",
       "        [-1.19856602e+00,  2.50408937e+00],\n",
       "        [ 2.90296863e+00,  7.91251003e+00],\n",
       "        [ 2.39250023e+00,  5.38173971e+00],\n",
       "        [-5.27545147e+00,  9.63836659e+00],\n",
       "        [-5.66814687e-01,  5.60262755e-02],\n",
       "        [ 5.97336628e+00,  5.87172022e+00],\n",
       "        [-2.31355268e+00,  5.23980092e-01],\n",
       "        [-1.01344756e+01, -3.43130837e+00],\n",
       "        [-4.54082629e+00,  1.13920174e+01],\n",
       "        [-1.04155833e+01, -5.67545836e+00],\n",
       "        [ 6.64796693e-01,  9.42304718e-02],\n",
       "        [ 2.11460477e+00,  3.55938488e+00],\n",
       "        [-1.11790221e+01, -9.30976605e+00],\n",
       "        [-6.63698251e+00,  6.39426436e+00],\n",
       "        [-7.67422005e+00, -7.26839654e+00],\n",
       "        [-7.98668260e+00, -9.57113308e+00],\n",
       "        [ 1.27983684e+00,  3.53150777e-01],\n",
       "        [ 3.54480244e+00,  7.93535678e+00],\n",
       "        [ 4.03940181e+00,  4.88870433e+00],\n",
       "        [-2.88118898e+00,  9.12919391e+00],\n",
       "        [-9.11009911e+00, -7.69781660e+00],\n",
       "        [ 5.26001172e+00,  4.74007434e+00],\n",
       "        [ 2.05859724e+00, -2.44083039e+00],\n",
       "        [-1.71289834e+00,  2.51221197e+00],\n",
       "        [-5.40562319e+00,  7.47228315e+00],\n",
       "        [-1.11995123e+01, -2.55276744e+00],\n",
       "        [-1.13753641e+01, -4.94525091e+00],\n",
       "        [-1.17821836e+01, -9.50883007e+00],\n",
       "        [ 1.74815503e+00,  2.05595679e+00],\n",
       "        [-9.00392334e+00, -6.20816203e+00],\n",
       "        [-2.86564584e+00,  7.52934153e+00],\n",
       "        [-1.42742293e+00,  8.33519078e+00],\n",
       "        [-3.10933432e+00,  1.01641464e+01],\n",
       "        [ 2.71130095e-01,  2.58303824e+00],\n",
       "        [ 8.21556561e-01,  6.76966806e+00],\n",
       "        [-4.11495481e+00,  8.02621345e+00],\n",
       "        [ 1.55414928e+00,  3.27657687e+00],\n",
       "        [-1.16546211e+01, -8.00673720e+00],\n",
       "        [-1.22009637e+00,  4.90466211e+00],\n",
       "        [ 3.22017630e+00, -5.94926204e-01],\n",
       "        [-5.40452892e+00,  7.19997027e+00],\n",
       "        [ 6.02795351e+00,  4.01696240e+00],\n",
       "        [ 4.02600451e-01,  6.73452012e-01],\n",
       "        [-7.38985009e+00, -5.61883075e+00],\n",
       "        [-1.60537707e+00,  5.98523639e+00],\n",
       "        [ 8.72770362e-01,  4.46205300e+00],\n",
       "        [ 1.03445241e+00,  1.81203497e+00],\n",
       "        [-3.88943018e+00,  5.29262653e+00],\n",
       "        [ 3.16835529e+00,  6.73039191e+00],\n",
       "        [-8.07309689e+00, -7.95924003e+00],\n",
       "        [ 9.16131646e-01,  7.46139251e+00],\n",
       "        [-7.39648298e+00, -4.95353352e+00],\n",
       "        [-1.71632701e+00,  8.48540300e+00],\n",
       "        [ 2.71396283e+00,  8.37361821e+00],\n",
       "        [-2.16570885e+00, -9.80036369e-01],\n",
       "        [-1.19474369e+01, -6.96432616e+00],\n",
       "        [ 4.89539219e+00,  6.07867981e+00],\n",
       "        [ 2.86177832e+00,  8.22611192e+00],\n",
       "        [-9.15392597e+00, -6.26781804e+00],\n",
       "        [ 2.03477094e+00,  8.20236427e+00],\n",
       "        [ 7.56601080e-01,  5.00732585e+00],\n",
       "        [-8.84039494e+00, -5.35549354e+00],\n",
       "        [-3.02650610e+00,  3.90066592e+00],\n",
       "        [-8.88037875e+00, -6.13184717e+00],\n",
       "        [ 5.20737777e+00,  6.42515996e+00],\n",
       "        [ 3.19207745e+00,  1.04409077e+01],\n",
       "        [ 3.54100315e-02,  2.28780746e+00],\n",
       "        [-6.94760830e+00,  1.03023440e+01],\n",
       "        [-3.30473029e+00,  2.74557144e+00],\n",
       "        [-6.95473895e-01,  3.94656058e+00],\n",
       "        [-8.33457235e+00, -6.05391550e+00],\n",
       "        [ 5.51284070e+00,  8.53538580e+00],\n",
       "        [-6.27688951e+00, -5.31758277e+00],\n",
       "        [ 6.67624111e-01,  4.73820362e-02],\n",
       "        [-1.03161306e+00,  7.89798431e-01],\n",
       "        [-1.48136390e+00,  7.81302690e-02],\n",
       "        [-5.35676677e+00,  6.98316723e+00],\n",
       "        [ 1.85230075e+00,  3.93319729e+00],\n",
       "        [-1.03889624e+01, -2.75765759e+00],\n",
       "        [-8.37419034e+00, -9.48799296e+00],\n",
       "        [-8.21095227e+00, -6.52257701e+00],\n",
       "        [-9.80094161e+00, -2.08038454e+00],\n",
       "        [-6.22493829e-01,  5.50912500e+00],\n",
       "        [ 2.71883687e-01,  4.90522990e+00],\n",
       "        [-8.72228610e+00, -7.70447881e+00],\n",
       "        [ 5.36248494e+00,  9.10638480e+00],\n",
       "        [-3.95284076e+00,  7.08183115e+00],\n",
       "        [-8.26204953e+00, -5.92347393e+00],\n",
       "        [ 7.60329764e+00,  4.39690494e+00],\n",
       "        [-1.55623061e+00,  3.74032798e+00],\n",
       "        [-1.08189070e+01, -6.37070754e+00],\n",
       "        [ 1.33375749e+00,  3.25801024e+00],\n",
       "        [-3.22271663e+00, -1.47041326e-01],\n",
       "        [ 1.09263748e-02,  6.37797424e+00],\n",
       "        [-1.21138032e+00,  4.18893447e+00],\n",
       "        [-9.49249242e+00, -5.33043171e+00],\n",
       "        [ 8.71855704e+00,  9.42068808e+00],\n",
       "        [-9.28377343e+00, -7.31691088e+00],\n",
       "        [-9.51273313e+00, -6.54720909e+00],\n",
       "        [ 5.01871366e+00,  2.64366773e+00],\n",
       "        [-2.69943732e+00,  7.33651484e+00],\n",
       "        [-4.21294044e+00,  6.69844656e+00],\n",
       "        [ 2.32686550e+00,  8.41007576e+00],\n",
       "        [-9.33392485e+00, -1.03767705e+01],\n",
       "        [ 4.09116118e+00,  6.24501935e+00],\n",
       "        [-3.44377911e+00,  8.15200300e+00],\n",
       "        [-6.56254983e+00,  9.77730406e+00],\n",
       "        [ 1.20080532e+00,  6.94341290e+00],\n",
       "        [-1.14313099e+00,  8.18669136e+00],\n",
       "        [ 1.02282712e+00,  5.16458509e+00],\n",
       "        [-4.41592469e+00,  6.35654190e+00],\n",
       "        [-1.45990175e+00,  1.76759085e+00],\n",
       "        [-6.01113440e+00,  7.61084526e+00],\n",
       "        [-3.49761061e-01,  1.82795716e+00],\n",
       "        [ 5.33062618e+00,  5.70970077e+00],\n",
       "        [-6.16705213e+00,  1.01703782e+01],\n",
       "        [-2.74298212e+00, -6.73063211e-01],\n",
       "        [-9.88392998e+00, -7.61018334e+00],\n",
       "        [-2.30611367e+00,  6.56412841e+00],\n",
       "        [-4.18810225e+00,  6.78643776e+00],\n",
       "        [-3.63372128e+00,  8.71114106e+00],\n",
       "        [ 6.28400899e-01,  1.74545508e+00],\n",
       "        [-8.83495735e+00, -8.48305488e+00],\n",
       "        [-1.43571057e+01, -3.82895508e+00],\n",
       "        [-4.10513812e+00,  6.59306099e+00],\n",
       "        [ 3.46810859e+00,  4.27477213e+00],\n",
       "        [-3.83634067e+00,  3.99058382e+00],\n",
       "        [ 3.86879737e+00,  9.05702488e+00],\n",
       "        [ 1.52734733e+00,  4.44529411e-01],\n",
       "        [-1.01203801e+01, -7.30634015e+00],\n",
       "        [ 5.30579523e+00,  3.36726770e+00],\n",
       "        [-9.74381724e+00, -5.16531539e+00],\n",
       "        [-5.21734714e-01,  8.77631220e+00],\n",
       "        [-1.32773569e+00,  7.98200905e+00],\n",
       "        [ 2.26042193e+00,  6.22167436e+00],\n",
       "        [-1.33860111e+00,  4.76650719e+00],\n",
       "        [-8.11827275e+00, -8.12313116e+00],\n",
       "        [-3.80021292e+00,  7.47588731e+00],\n",
       "        [-5.33110685e+00,  8.09237748e+00],\n",
       "        [-2.50033965e+00,  1.10368807e+01],\n",
       "        [-2.16845912e+00,  9.21545979e+00],\n",
       "        [ 8.52592570e-02,  2.11630185e+00],\n",
       "        [ 3.42604328e+00,  4.85412683e+00],\n",
       "        [ 1.62539023e+00, -7.88195931e-01],\n",
       "        [-8.45546407e+00,  7.81479304e+00],\n",
       "        [ 1.94991080e+00,  4.77920618e+00],\n",
       "        [ 2.66085026e+00,  8.85418636e+00],\n",
       "        [ 3.30975285e+00,  7.20496849e+00],\n",
       "        [ 1.48322247e+00, -2.15828086e-01],\n",
       "        [ 4.18471184e+00,  7.42058154e+00],\n",
       "        [ 1.78184320e+00,  1.54467915e+00],\n",
       "        [-2.16128362e+00,  4.08184363e+00],\n",
       "        [-6.73918279e+00,  4.14835615e+00],\n",
       "        [-1.24514261e+01, -5.96841529e+00],\n",
       "        [-6.08197913e+00,  6.17032027e+00],\n",
       "        [-1.37015897e+00,  2.28590470e+00],\n",
       "        [ 5.51872307e+00,  7.27154783e+00],\n",
       "        [-3.03385808e+00,  8.92618442e+00],\n",
       "        [ 4.20669615e+00,  3.14885797e-01],\n",
       "        [ 4.11969631e+00,  7.79152164e+00],\n",
       "        [ 1.47778918e+00,  2.00671508e+00],\n",
       "        [-4.75152705e+00,  8.00144754e+00],\n",
       "        [-1.07466987e-01,  7.34698260e+00],\n",
       "        [ 1.17780584e-01,  4.83651037e+00],\n",
       "        [-7.25153130e+00,  5.50680568e+00],\n",
       "        [ 3.92000057e+00,  7.87622351e+00],\n",
       "        [ 1.14783058e+00,  7.25692451e+00],\n",
       "        [-5.77733594e+00, -8.45301197e+00],\n",
       "        [ 1.75952674e+00,  6.67729832e+00],\n",
       "        [-3.30799302e+00,  8.82613007e+00],\n",
       "        [-7.87501869e+00, -9.37924348e+00],\n",
       "        [-8.02054658e+00, -7.84568360e+00],\n",
       "        [-8.56456002e-01,  1.05365275e+01],\n",
       "        [-9.13930933e+00, -5.07011409e+00],\n",
       "        [-1.01147018e+01, -9.56847340e+00],\n",
       "        [-9.07497230e+00, -2.42418980e+00],\n",
       "        [-9.65620091e+00, -8.27162550e+00],\n",
       "        [-1.14063629e+01, -1.00039828e+01],\n",
       "        [ 5.92620742e-01,  5.50345267e-01],\n",
       "        [-9.93363386e+00, -4.65668813e+00],\n",
       "        [ 5.48533076e+00,  7.60283616e+00],\n",
       "        [ 4.43919524e+00,  8.13205419e+00],\n",
       "        [-3.65443003e+00,  7.20898410e+00],\n",
       "        [-8.81214493e+00, -6.21627131e+00],\n",
       "        [ 6.71402334e-01,  4.97511492e+00],\n",
       "        [ 6.56000194e+00,  8.35132137e+00],\n",
       "        [ 5.13497095e+00,  9.12541881e+00],\n",
       "        [-9.26198510e+00, -4.33610417e+00],\n",
       "        [ 2.17474403e+00,  1.13147551e+00]]),\n",
       " array([3, 2, 0, 2, 2, 1, 2, 0, 2, 0, 3, 0, 2, 2, 3, 0, 2, 0, 1, 3, 1, 0,\n",
       "        0, 1, 3, 1, 1, 0, 2, 2, 3, 1, 2, 0, 0, 3, 1, 1, 1, 2, 1, 3, 3, 3,\n",
       "        0, 3, 3, 0, 1, 2, 0, 3, 2, 0, 1, 3, 0, 0, 3, 2, 1, 2, 1, 3, 2, 0,\n",
       "        1, 2, 2, 1, 2, 0, 1, 3, 1, 2, 2, 0, 3, 0, 0, 1, 2, 1, 0, 0, 0, 3,\n",
       "        2, 1, 1, 1, 1, 3, 0, 1, 2, 3, 1, 2, 0, 1, 0, 0, 2, 0, 1, 2, 1, 1,\n",
       "        0, 3, 3, 2, 1, 2, 3, 3, 2, 3, 0, 3, 0, 3, 0, 2, 3, 0, 1, 3, 3, 3,\n",
       "        0, 1, 1, 3, 2, 3, 2, 0, 1, 2, 1, 3, 3, 2, 0, 1, 3, 3, 3, 3, 0, 2,\n",
       "        0, 3, 2, 2, 2, 0, 2, 0, 0, 3, 1, 3, 0, 2, 3, 0, 2, 0, 3, 3, 0, 3,\n",
       "        2, 2, 1, 2, 3, 1, 1, 3, 1, 1, 1, 1, 1, 0, 1, 2, 2, 3, 1, 0, 2, 2,\n",
       "        1, 0]))"
      ]
     },
     "execution_count": 14,
     "metadata": {},
     "output_type": "execute_result"
    }
   ],
   "source": [
    "data_mb                                                                 # Show data"
   ]
  },
  {
   "cell_type": "code",
   "execution_count": 15,
   "metadata": {},
   "outputs": [
    {
     "data": {
      "text/plain": [
       "array([[-6.42884095e+00,  1.01411174e+01],\n",
       "       [ 5.86867888e+00,  5.20110356e+00],\n",
       "       [-3.76109375e-01,  3.26427943e+00],\n",
       "       [ 2.16679181e+00,  9.56300522e+00],\n",
       "       [ 5.09508570e+00,  7.20752718e+00],\n",
       "       [-1.08788882e+01, -6.11318040e+00],\n",
       "       [ 2.03405554e+00,  9.76664755e+00],\n",
       "       [-1.71798771e+00,  1.41401140e+00],\n",
       "       [ 1.16911341e+00,  8.24556988e+00],\n",
       "       [-1.35185444e+00,  3.13245345e+00],\n",
       "       [-6.18548214e+00,  9.67406555e+00],\n",
       "       [-1.19856602e+00,  2.50408937e+00],\n",
       "       [ 2.90296863e+00,  7.91251003e+00],\n",
       "       [ 2.39250023e+00,  5.38173971e+00],\n",
       "       [-5.27545147e+00,  9.63836659e+00],\n",
       "       [-5.66814687e-01,  5.60262755e-02],\n",
       "       [ 5.97336628e+00,  5.87172022e+00],\n",
       "       [-2.31355268e+00,  5.23980092e-01],\n",
       "       [-1.01344756e+01, -3.43130837e+00],\n",
       "       [-4.54082629e+00,  1.13920174e+01],\n",
       "       [-1.04155833e+01, -5.67545836e+00],\n",
       "       [ 6.64796693e-01,  9.42304718e-02],\n",
       "       [ 2.11460477e+00,  3.55938488e+00],\n",
       "       [-1.11790221e+01, -9.30976605e+00],\n",
       "       [-6.63698251e+00,  6.39426436e+00],\n",
       "       [-7.67422005e+00, -7.26839654e+00],\n",
       "       [-7.98668260e+00, -9.57113308e+00],\n",
       "       [ 1.27983684e+00,  3.53150777e-01],\n",
       "       [ 3.54480244e+00,  7.93535678e+00],\n",
       "       [ 4.03940181e+00,  4.88870433e+00],\n",
       "       [-2.88118898e+00,  9.12919391e+00],\n",
       "       [-9.11009911e+00, -7.69781660e+00],\n",
       "       [ 5.26001172e+00,  4.74007434e+00],\n",
       "       [ 2.05859724e+00, -2.44083039e+00],\n",
       "       [-1.71289834e+00,  2.51221197e+00],\n",
       "       [-5.40562319e+00,  7.47228315e+00],\n",
       "       [-1.11995123e+01, -2.55276744e+00],\n",
       "       [-1.13753641e+01, -4.94525091e+00],\n",
       "       [-1.17821836e+01, -9.50883007e+00],\n",
       "       [ 1.74815503e+00,  2.05595679e+00],\n",
       "       [-9.00392334e+00, -6.20816203e+00],\n",
       "       [-2.86564584e+00,  7.52934153e+00],\n",
       "       [-1.42742293e+00,  8.33519078e+00],\n",
       "       [-3.10933432e+00,  1.01641464e+01],\n",
       "       [ 2.71130095e-01,  2.58303824e+00],\n",
       "       [ 8.21556561e-01,  6.76966806e+00],\n",
       "       [-4.11495481e+00,  8.02621345e+00],\n",
       "       [ 1.55414928e+00,  3.27657687e+00],\n",
       "       [-1.16546211e+01, -8.00673720e+00],\n",
       "       [-1.22009637e+00,  4.90466211e+00],\n",
       "       [ 3.22017630e+00, -5.94926204e-01],\n",
       "       [-5.40452892e+00,  7.19997027e+00],\n",
       "       [ 6.02795351e+00,  4.01696240e+00],\n",
       "       [ 4.02600451e-01,  6.73452012e-01],\n",
       "       [-7.38985009e+00, -5.61883075e+00],\n",
       "       [-1.60537707e+00,  5.98523639e+00],\n",
       "       [ 8.72770362e-01,  4.46205300e+00],\n",
       "       [ 1.03445241e+00,  1.81203497e+00],\n",
       "       [-3.88943018e+00,  5.29262653e+00],\n",
       "       [ 3.16835529e+00,  6.73039191e+00],\n",
       "       [-8.07309689e+00, -7.95924003e+00],\n",
       "       [ 9.16131646e-01,  7.46139251e+00],\n",
       "       [-7.39648298e+00, -4.95353352e+00],\n",
       "       [-1.71632701e+00,  8.48540300e+00],\n",
       "       [ 2.71396283e+00,  8.37361821e+00],\n",
       "       [-2.16570885e+00, -9.80036369e-01],\n",
       "       [-1.19474369e+01, -6.96432616e+00],\n",
       "       [ 4.89539219e+00,  6.07867981e+00],\n",
       "       [ 2.86177832e+00,  8.22611192e+00],\n",
       "       [-9.15392597e+00, -6.26781804e+00],\n",
       "       [ 2.03477094e+00,  8.20236427e+00],\n",
       "       [ 7.56601080e-01,  5.00732585e+00],\n",
       "       [-8.84039494e+00, -5.35549354e+00],\n",
       "       [-3.02650610e+00,  3.90066592e+00],\n",
       "       [-8.88037875e+00, -6.13184717e+00],\n",
       "       [ 5.20737777e+00,  6.42515996e+00],\n",
       "       [ 3.19207745e+00,  1.04409077e+01],\n",
       "       [ 3.54100315e-02,  2.28780746e+00],\n",
       "       [-6.94760830e+00,  1.03023440e+01],\n",
       "       [-3.30473029e+00,  2.74557144e+00],\n",
       "       [-6.95473895e-01,  3.94656058e+00],\n",
       "       [-8.33457235e+00, -6.05391550e+00],\n",
       "       [ 5.51284070e+00,  8.53538580e+00],\n",
       "       [-6.27688951e+00, -5.31758277e+00],\n",
       "       [ 6.67624111e-01,  4.73820362e-02],\n",
       "       [-1.03161306e+00,  7.89798431e-01],\n",
       "       [-1.48136390e+00,  7.81302690e-02],\n",
       "       [-5.35676677e+00,  6.98316723e+00],\n",
       "       [ 1.85230075e+00,  3.93319729e+00],\n",
       "       [-1.03889624e+01, -2.75765759e+00],\n",
       "       [-8.37419034e+00, -9.48799296e+00],\n",
       "       [-8.21095227e+00, -6.52257701e+00],\n",
       "       [-9.80094161e+00, -2.08038454e+00],\n",
       "       [-6.22493829e-01,  5.50912500e+00],\n",
       "       [ 2.71883687e-01,  4.90522990e+00],\n",
       "       [-8.72228610e+00, -7.70447881e+00],\n",
       "       [ 5.36248494e+00,  9.10638480e+00],\n",
       "       [-3.95284076e+00,  7.08183115e+00],\n",
       "       [-8.26204953e+00, -5.92347393e+00],\n",
       "       [ 7.60329764e+00,  4.39690494e+00],\n",
       "       [-1.55623061e+00,  3.74032798e+00],\n",
       "       [-1.08189070e+01, -6.37070754e+00],\n",
       "       [ 1.33375749e+00,  3.25801024e+00],\n",
       "       [-3.22271663e+00, -1.47041326e-01],\n",
       "       [ 1.09263748e-02,  6.37797424e+00],\n",
       "       [-1.21138032e+00,  4.18893447e+00],\n",
       "       [-9.49249242e+00, -5.33043171e+00],\n",
       "       [ 8.71855704e+00,  9.42068808e+00],\n",
       "       [-9.28377343e+00, -7.31691088e+00],\n",
       "       [-9.51273313e+00, -6.54720909e+00],\n",
       "       [ 5.01871366e+00,  2.64366773e+00],\n",
       "       [-2.69943732e+00,  7.33651484e+00],\n",
       "       [-4.21294044e+00,  6.69844656e+00],\n",
       "       [ 2.32686550e+00,  8.41007576e+00],\n",
       "       [-9.33392485e+00, -1.03767705e+01],\n",
       "       [ 4.09116118e+00,  6.24501935e+00],\n",
       "       [-3.44377911e+00,  8.15200300e+00],\n",
       "       [-6.56254983e+00,  9.77730406e+00],\n",
       "       [ 1.20080532e+00,  6.94341290e+00],\n",
       "       [-1.14313099e+00,  8.18669136e+00],\n",
       "       [ 1.02282712e+00,  5.16458509e+00],\n",
       "       [-4.41592469e+00,  6.35654190e+00],\n",
       "       [-1.45990175e+00,  1.76759085e+00],\n",
       "       [-6.01113440e+00,  7.61084526e+00],\n",
       "       [-3.49761061e-01,  1.82795716e+00],\n",
       "       [ 5.33062618e+00,  5.70970077e+00],\n",
       "       [-6.16705213e+00,  1.01703782e+01],\n",
       "       [-2.74298212e+00, -6.73063211e-01],\n",
       "       [-9.88392998e+00, -7.61018334e+00],\n",
       "       [-2.30611367e+00,  6.56412841e+00],\n",
       "       [-4.18810225e+00,  6.78643776e+00],\n",
       "       [-3.63372128e+00,  8.71114106e+00],\n",
       "       [ 6.28400899e-01,  1.74545508e+00],\n",
       "       [-8.83495735e+00, -8.48305488e+00],\n",
       "       [-1.43571057e+01, -3.82895508e+00],\n",
       "       [-4.10513812e+00,  6.59306099e+00],\n",
       "       [ 3.46810859e+00,  4.27477213e+00],\n",
       "       [-3.83634067e+00,  3.99058382e+00],\n",
       "       [ 3.86879737e+00,  9.05702488e+00],\n",
       "       [ 1.52734733e+00,  4.44529411e-01],\n",
       "       [-1.01203801e+01, -7.30634015e+00],\n",
       "       [ 5.30579523e+00,  3.36726770e+00],\n",
       "       [-9.74381724e+00, -5.16531539e+00],\n",
       "       [-5.21734714e-01,  8.77631220e+00],\n",
       "       [-1.32773569e+00,  7.98200905e+00],\n",
       "       [ 2.26042193e+00,  6.22167436e+00],\n",
       "       [-1.33860111e+00,  4.76650719e+00],\n",
       "       [-8.11827275e+00, -8.12313116e+00],\n",
       "       [-3.80021292e+00,  7.47588731e+00],\n",
       "       [-5.33110685e+00,  8.09237748e+00],\n",
       "       [-2.50033965e+00,  1.10368807e+01],\n",
       "       [-2.16845912e+00,  9.21545979e+00],\n",
       "       [ 8.52592570e-02,  2.11630185e+00],\n",
       "       [ 3.42604328e+00,  4.85412683e+00],\n",
       "       [ 1.62539023e+00, -7.88195931e-01],\n",
       "       [-8.45546407e+00,  7.81479304e+00],\n",
       "       [ 1.94991080e+00,  4.77920618e+00],\n",
       "       [ 2.66085026e+00,  8.85418636e+00],\n",
       "       [ 3.30975285e+00,  7.20496849e+00],\n",
       "       [ 1.48322247e+00, -2.15828086e-01],\n",
       "       [ 4.18471184e+00,  7.42058154e+00],\n",
       "       [ 1.78184320e+00,  1.54467915e+00],\n",
       "       [-2.16128362e+00,  4.08184363e+00],\n",
       "       [-6.73918279e+00,  4.14835615e+00],\n",
       "       [-1.24514261e+01, -5.96841529e+00],\n",
       "       [-6.08197913e+00,  6.17032027e+00],\n",
       "       [-1.37015897e+00,  2.28590470e+00],\n",
       "       [ 5.51872307e+00,  7.27154783e+00],\n",
       "       [-3.03385808e+00,  8.92618442e+00],\n",
       "       [ 4.20669615e+00,  3.14885797e-01],\n",
       "       [ 4.11969631e+00,  7.79152164e+00],\n",
       "       [ 1.47778918e+00,  2.00671508e+00],\n",
       "       [-4.75152705e+00,  8.00144754e+00],\n",
       "       [-1.07466987e-01,  7.34698260e+00],\n",
       "       [ 1.17780584e-01,  4.83651037e+00],\n",
       "       [-7.25153130e+00,  5.50680568e+00],\n",
       "       [ 3.92000057e+00,  7.87622351e+00],\n",
       "       [ 1.14783058e+00,  7.25692451e+00],\n",
       "       [-5.77733594e+00, -8.45301197e+00],\n",
       "       [ 1.75952674e+00,  6.67729832e+00],\n",
       "       [-3.30799302e+00,  8.82613007e+00],\n",
       "       [-7.87501869e+00, -9.37924348e+00],\n",
       "       [-8.02054658e+00, -7.84568360e+00],\n",
       "       [-8.56456002e-01,  1.05365275e+01],\n",
       "       [-9.13930933e+00, -5.07011409e+00],\n",
       "       [-1.01147018e+01, -9.56847340e+00],\n",
       "       [-9.07497230e+00, -2.42418980e+00],\n",
       "       [-9.65620091e+00, -8.27162550e+00],\n",
       "       [-1.14063629e+01, -1.00039828e+01],\n",
       "       [ 5.92620742e-01,  5.50345267e-01],\n",
       "       [-9.93363386e+00, -4.65668813e+00],\n",
       "       [ 5.48533076e+00,  7.60283616e+00],\n",
       "       [ 4.43919524e+00,  8.13205419e+00],\n",
       "       [-3.65443003e+00,  7.20898410e+00],\n",
       "       [-8.81214493e+00, -6.21627131e+00],\n",
       "       [ 6.71402334e-01,  4.97511492e+00],\n",
       "       [ 6.56000194e+00,  8.35132137e+00],\n",
       "       [ 5.13497095e+00,  9.12541881e+00],\n",
       "       [-9.26198510e+00, -4.33610417e+00],\n",
       "       [ 2.17474403e+00,  1.13147551e+00]])"
      ]
     },
     "execution_count": 15,
     "metadata": {},
     "output_type": "execute_result"
    }
   ],
   "source": [
    "data_mb[0]               # 2-dimensional array containing the coordinates for each generated point in the 2D feature space"
   ]
  },
  {
   "cell_type": "code",
   "execution_count": 16,
   "metadata": {},
   "outputs": [
    {
     "data": {
      "text/plain": [
       "array([3, 2, 0, 2, 2, 1, 2, 0, 2, 0, 3, 0, 2, 2, 3, 0, 2, 0, 1, 3, 1, 0,\n",
       "       0, 1, 3, 1, 1, 0, 2, 2, 3, 1, 2, 0, 0, 3, 1, 1, 1, 2, 1, 3, 3, 3,\n",
       "       0, 3, 3, 0, 1, 2, 0, 3, 2, 0, 1, 3, 0, 0, 3, 2, 1, 2, 1, 3, 2, 0,\n",
       "       1, 2, 2, 1, 2, 0, 1, 3, 1, 2, 2, 0, 3, 0, 0, 1, 2, 1, 0, 0, 0, 3,\n",
       "       2, 1, 1, 1, 1, 3, 0, 1, 2, 3, 1, 2, 0, 1, 0, 0, 2, 0, 1, 2, 1, 1,\n",
       "       0, 3, 3, 2, 1, 2, 3, 3, 2, 3, 0, 3, 0, 3, 0, 2, 3, 0, 1, 3, 3, 3,\n",
       "       0, 1, 1, 3, 2, 3, 2, 0, 1, 2, 1, 3, 3, 2, 0, 1, 3, 3, 3, 3, 0, 2,\n",
       "       0, 3, 2, 2, 2, 0, 2, 0, 0, 3, 1, 3, 0, 2, 3, 0, 2, 0, 3, 3, 0, 3,\n",
       "       2, 2, 1, 2, 3, 1, 1, 3, 1, 1, 1, 1, 1, 0, 1, 2, 2, 3, 1, 0, 2, 2,\n",
       "       1, 0])"
      ]
     },
     "execution_count": 16,
     "metadata": {},
     "output_type": "execute_result"
    }
   ],
   "source": [
    "data_mb[1]               # 1-dimensional array containing the label (cluster) associated to each generated point"
   ]
  },
  {
   "cell_type": "markdown",
   "metadata": {},
   "source": [
    "### Data Visualization"
   ]
  },
  {
   "cell_type": "code",
   "execution_count": 17,
   "metadata": {},
   "outputs": [
    {
     "data": {
      "text/plain": [
       "<matplotlib.collections.PathCollection at 0x2e6c65784f0>"
      ]
     },
     "execution_count": 17,
     "metadata": {},
     "output_type": "execute_result"
    },
    {
     "data": {
      "image/png": "[encoded data removed]",
      "text/plain": [
       "<Figure size 432x288 with 1 Axes>"
      ]
     },
     "metadata": {
      "needs_background": "light"
     },
     "output_type": "display_data"
    }
   ],
   "source": [
    "plt.scatter(data_mb[0][:,0],data_mb[0][:,1],c=data_mb[1],cmap='rainbow')         # Data scatterplot in the 2-dimensional feature space"
   ]
  },
  {
   "cell_type": "markdown",
   "metadata": {},
   "source": [
    "### K-Means Clustering"
   ]
  },
  {
   "cell_type": "code",
   "execution_count": 18,
   "metadata": {},
   "outputs": [],
   "source": [
    "from sklearn.cluster import KMeans\n",
    "\n",
    "kmeans = KMeans(n_clusters=4)"
   ]
  },
  {
   "cell_type": "code",
   "execution_count": 19,
   "metadata": {},
   "outputs": [
    {
     "data": {
      "text/plain": [
       "KMeans(n_clusters=4)"
      ]
     },
     "execution_count": 19,
     "metadata": {},
     "output_type": "execute_result"
    }
   ],
   "source": [
    "kmeans.fit(data_mb[0])"
   ]
  },
  {
   "cell_type": "code",
   "execution_count": 20,
   "metadata": {},
   "outputs": [
    {
     "data": {
      "text/plain": [
       "array([[-4.13591321,  7.95389851],\n",
       "       [-9.46941837, -6.56081545],\n",
       "       [-0.0123077 ,  2.13407664],\n",
       "       [ 3.71749226,  7.01388735]])"
      ]
     },
     "execution_count": 20,
     "metadata": {},
     "output_type": "execute_result"
    }
   ],
   "source": [
    "kmeans.cluster_centers_"
   ]
  },
  {
   "cell_type": "code",
   "execution_count": 21,
   "metadata": {},
   "outputs": [
    {
     "data": {
      "text/plain": [
       "array([0, 3, 2, 3, 3, 1, 3, 2, 3, 2, 0, 2, 3, 3, 0, 2, 3, 2, 1, 0, 1, 2,\n",
       "       2, 1, 0, 1, 1, 2, 3, 3, 0, 1, 3, 2, 2, 0, 1, 1, 1, 2, 1, 0, 0, 0,\n",
       "       2, 3, 0, 2, 1, 2, 2, 0, 3, 2, 1, 0, 2, 2, 0, 3, 1, 3, 1, 0, 3, 2,\n",
       "       1, 3, 3, 1, 3, 2, 1, 2, 1, 3, 3, 2, 0, 2, 2, 1, 3, 1, 2, 2, 2, 0,\n",
       "       2, 1, 1, 1, 1, 2, 2, 1, 3, 0, 1, 3, 2, 1, 2, 2, 3, 2, 1, 3, 1, 1,\n",
       "       3, 0, 0, 3, 1, 3, 0, 0, 3, 0, 2, 0, 2, 0, 2, 3, 0, 2, 1, 0, 0, 0,\n",
       "       2, 1, 1, 0, 3, 0, 3, 2, 1, 3, 1, 0, 0, 3, 2, 1, 0, 0, 0, 0, 2, 3,\n",
       "       2, 0, 3, 3, 3, 2, 3, 2, 2, 0, 1, 0, 2, 3, 0, 2, 3, 2, 0, 3, 2, 0,\n",
       "       3, 3, 1, 3, 0, 1, 1, 0, 1, 1, 1, 1, 1, 2, 1, 3, 3, 0, 1, 2, 3, 3,\n",
       "       1, 2])"
      ]
     },
     "execution_count": 21,
     "metadata": {},
     "output_type": "execute_result"
    }
   ],
   "source": [
    "kmeans.labels_"
   ]
  },
  {
   "cell_type": "markdown",
   "metadata": {},
   "source": [
    "### Plot Original Dataset vs K-Means Clustering Results"
   ]
  },
  {
   "cell_type": "code",
   "execution_count": 22,
   "metadata": {},
   "outputs": [
    {
     "data": {
      "text/plain": [
       "Text(0, 0.5, 'Feature 2')"
      ]
     },
     "execution_count": 22,
     "metadata": {},
     "output_type": "execute_result"
    },
    {
     "data": {
      "image/png": "[encoded data removed]",
      "text/plain": [
       "<Figure size 720x432 with 2 Axes>"
      ]
     },
     "metadata": {
      "needs_background": "light"
     },
     "output_type": "display_data"
    }
   ],
   "source": [
    "f, (ax1, ax2) = plt.subplots(1, 2, sharey=True,figsize=(10,6))\n",
    "\n",
    "ax1.scatter(data_mb[0][:,0],data_mb[0][:,1],c=data_mb[1],cmap='rainbow')\n",
    "ax1.set_title(\"Original\")\n",
    "ax1.set_xlabel('Feature 1')\n",
    "ax1.set_ylabel('Feature 2')\n",
    "\n",
    "ax2.scatter(data_mb[0][:,0],data_mb[0][:,1],c=kmeans.labels_,cmap='rainbow')\n",
    "ax2.set_title('K Means')\n",
    "ax2.set_xlabel('Feature 1')\n",
    "ax2.set_ylabel('Feature 2')"
   ]
  },
  {
   "cell_type": "markdown",
   "metadata": {},
   "source": [
    "Observation: The colors are meaningless in reference between the two plots."
   ]
  },
  {
   "cell_type": "markdown",
   "metadata": {},
   "source": [
    "## Conclusion\n",
    "\n",
    "The proposed case study represents an example of application of K-Means Clustering algorithm to a randomly generated dataset in a two-dimensional feature space. It may be interesting to repeat the analysis on different datasets, specifying different numbers of clusters."
   ]
  }
 ],
 "metadata": {
  "kernelspec": {
   "display_name": "Python 3",
   "language": "python",
   "name": "python3"
  },
  "language_info": {
   "codemirror_mode": {
    "name": "ipython",
    "version": 3
   },
   "file_extension": ".py",
   "mimetype": "text/x-python",
   "name": "python",
   "nbconvert_exporter": "python",
   "pygments_lexer": "ipython3",
   "version": "3.8.3"
  }
 },
 "nbformat": 4,
 "nbformat_minor": 1
}
